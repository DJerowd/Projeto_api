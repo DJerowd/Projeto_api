{
  "nbformat": 4,
  "nbformat_minor": 0,
  "metadata": {
    "colab": {
      "provenance": [],
      "mount_file_id": "1jYh_iGXxMTHFrwnj-Lvnf0eUDzKF2PNh",
      "authorship_tag": "ABX9TyMXO11Csjzb2ee47MLmqpn0",
      "include_colab_link": true
    },
    "kernelspec": {
      "name": "python3",
      "display_name": "Python 3"
    },
    "language_info": {
      "name": "python"
    }
  },
  "cells": [
    {
      "cell_type": "markdown",
      "metadata": {
        "id": "view-in-github",
        "colab_type": "text"
      },
      "source": [
        "<a href=\"https://colab.research.google.com/github/DJerowd/Projeto_api/blob/main/TrabalhoADTD.ipynb\" target=\"_parent\"><img src=\"https://colab.research.google.com/assets/colab-badge.svg\" alt=\"Open In Colab\"/></a>"
      ]
    },
    {
      "cell_type": "code",
      "execution_count": null,
      "metadata": {
        "id": "YOZe0CEpMQVL"
      },
      "outputs": [],
      "source": [
        "import pandas as pd\n",
        "import seaborn as sns\n",
        "import numpy as np\n",
        "import matplotlib.pyplot as plt\n",
        "\n",
        "from sklearn.linear_model import LinearRegression\n",
        "from sklearn.model_selection import train_test_split\n",
        "from sklearn.metrics import r2_score, accuracy_score\n",
        "from sklearn.tree import DecisionTreeRegressor\n",
        "from sklearn.tree import DecisionTreeClassifier\n",
        "from sklearn.ensemble import RandomForestClassifier\n",
        "from sklearn.preprocessing import StandardScaler"
      ]
    },
    {
      "cell_type": "code",
      "source": [
        "test = pd.read_csv('/content/drive/MyDrive/TADS/Análise de Dados e Tomada de Decisões /download/test.csv')\n",
        "train = pd.read_csv('/content/drive/MyDrive/TADS/Análise de Dados e Tomada de Decisões /download/train.csv')"
      ],
      "metadata": {
        "id": "MtuYwimCQx0G"
      },
      "execution_count": null,
      "outputs": []
    },
    {
      "cell_type": "code",
      "source": [
        "train"
      ],
      "metadata": {
        "id": "7E4p1Y9IRA8i"
      },
      "execution_count": null,
      "outputs": []
    },
    {
      "cell_type": "code",
      "source": [
        "train.describe()"
      ],
      "metadata": {
        "id": "SGG1vCwLOqgh"
      },
      "execution_count": null,
      "outputs": []
    },
    {
      "cell_type": "code",
      "source": [
        "train.groupby('Sex')['Survived'].mean()"
      ],
      "metadata": {
        "id": "i5wnhdkYw1Hm"
      },
      "execution_count": null,
      "outputs": []
    },
    {
      "cell_type": "code",
      "source": [
        "train['Survived'].value_counts()"
      ],
      "metadata": {
        "id": "ESkTFS2FwpX4"
      },
      "execution_count": null,
      "outputs": []
    },
    {
      "cell_type": "code",
      "source": [
        "train.groupby('Sex')['Survived'].value_counts()"
      ],
      "metadata": {
        "id": "z-lgLm413XsW"
      },
      "execution_count": null,
      "outputs": []
    },
    {
      "cell_type": "code",
      "source": [
        "train.pivot_table('Survived', index='Sex', columns='Pclass')"
      ],
      "metadata": {
        "id": "PCU-z8wCxCNQ",
        "colab": {
          "base_uri": "https://localhost:8080/",
          "height": 143
        },
        "outputId": "eb1115d5-2afb-4352-8042-39b6060e504f"
      },
      "execution_count": null,
      "outputs": [
        {
          "output_type": "execute_result",
          "data": {
            "text/plain": [
              "Pclass         1         2         3\n",
              "Sex                                 \n",
              "female  0.968085  0.921053  0.500000\n",
              "male    0.368852  0.157407  0.135447"
            ],
            "text/html": [
              "\n",
              "  <div id=\"df-9ce05e4b-79c8-4043-b563-cb94dc0d0630\">\n",
              "    <div class=\"colab-df-container\">\n",
              "      <div>\n",
              "<style scoped>\n",
              "    .dataframe tbody tr th:only-of-type {\n",
              "        vertical-align: middle;\n",
              "    }\n",
              "\n",
              "    .dataframe tbody tr th {\n",
              "        vertical-align: top;\n",
              "    }\n",
              "\n",
              "    .dataframe thead th {\n",
              "        text-align: right;\n",
              "    }\n",
              "</style>\n",
              "<table border=\"1\" class=\"dataframe\">\n",
              "  <thead>\n",
              "    <tr style=\"text-align: right;\">\n",
              "      <th>Pclass</th>\n",
              "      <th>1</th>\n",
              "      <th>2</th>\n",
              "      <th>3</th>\n",
              "    </tr>\n",
              "    <tr>\n",
              "      <th>Sex</th>\n",
              "      <th></th>\n",
              "      <th></th>\n",
              "      <th></th>\n",
              "    </tr>\n",
              "  </thead>\n",
              "  <tbody>\n",
              "    <tr>\n",
              "      <th>female</th>\n",
              "      <td>0.968085</td>\n",
              "      <td>0.921053</td>\n",
              "      <td>0.500000</td>\n",
              "    </tr>\n",
              "    <tr>\n",
              "      <th>male</th>\n",
              "      <td>0.368852</td>\n",
              "      <td>0.157407</td>\n",
              "      <td>0.135447</td>\n",
              "    </tr>\n",
              "  </tbody>\n",
              "</table>\n",
              "</div>\n",
              "      <button class=\"colab-df-convert\" onclick=\"convertToInteractive('df-9ce05e4b-79c8-4043-b563-cb94dc0d0630')\"\n",
              "              title=\"Convert this dataframe to an interactive table.\"\n",
              "              style=\"display:none;\">\n",
              "        \n",
              "  <svg xmlns=\"http://www.w3.org/2000/svg\" height=\"24px\"viewBox=\"0 0 24 24\"\n",
              "       width=\"24px\">\n",
              "    <path d=\"M0 0h24v24H0V0z\" fill=\"none\"/>\n",
              "    <path d=\"M18.56 5.44l.94 2.06.94-2.06 2.06-.94-2.06-.94-.94-2.06-.94 2.06-2.06.94zm-11 1L8.5 8.5l.94-2.06 2.06-.94-2.06-.94L8.5 2.5l-.94 2.06-2.06.94zm10 10l.94 2.06.94-2.06 2.06-.94-2.06-.94-.94-2.06-.94 2.06-2.06.94z\"/><path d=\"M17.41 7.96l-1.37-1.37c-.4-.4-.92-.59-1.43-.59-.52 0-1.04.2-1.43.59L10.3 9.45l-7.72 7.72c-.78.78-.78 2.05 0 2.83L4 21.41c.39.39.9.59 1.41.59.51 0 1.02-.2 1.41-.59l7.78-7.78 2.81-2.81c.8-.78.8-2.07 0-2.86zM5.41 20L4 18.59l7.72-7.72 1.47 1.35L5.41 20z\"/>\n",
              "  </svg>\n",
              "      </button>\n",
              "      \n",
              "  <style>\n",
              "    .colab-df-container {\n",
              "      display:flex;\n",
              "      flex-wrap:wrap;\n",
              "      gap: 12px;\n",
              "    }\n",
              "\n",
              "    .colab-df-convert {\n",
              "      background-color: #E8F0FE;\n",
              "      border: none;\n",
              "      border-radius: 50%;\n",
              "      cursor: pointer;\n",
              "      display: none;\n",
              "      fill: #1967D2;\n",
              "      height: 32px;\n",
              "      padding: 0 0 0 0;\n",
              "      width: 32px;\n",
              "    }\n",
              "\n",
              "    .colab-df-convert:hover {\n",
              "      background-color: #E2EBFA;\n",
              "      box-shadow: 0px 1px 2px rgba(60, 64, 67, 0.3), 0px 1px 3px 1px rgba(60, 64, 67, 0.15);\n",
              "      fill: #174EA6;\n",
              "    }\n",
              "\n",
              "    [theme=dark] .colab-df-convert {\n",
              "      background-color: #3B4455;\n",
              "      fill: #D2E3FC;\n",
              "    }\n",
              "\n",
              "    [theme=dark] .colab-df-convert:hover {\n",
              "      background-color: #434B5C;\n",
              "      box-shadow: 0px 1px 3px 1px rgba(0, 0, 0, 0.15);\n",
              "      filter: drop-shadow(0px 1px 2px rgba(0, 0, 0, 0.3));\n",
              "      fill: #FFFFFF;\n",
              "    }\n",
              "  </style>\n",
              "\n",
              "      <script>\n",
              "        const buttonEl =\n",
              "          document.querySelector('#df-9ce05e4b-79c8-4043-b563-cb94dc0d0630 button.colab-df-convert');\n",
              "        buttonEl.style.display =\n",
              "          google.colab.kernel.accessAllowed ? 'block' : 'none';\n",
              "\n",
              "        async function convertToInteractive(key) {\n",
              "          const element = document.querySelector('#df-9ce05e4b-79c8-4043-b563-cb94dc0d0630');\n",
              "          const dataTable =\n",
              "            await google.colab.kernel.invokeFunction('convertToInteractive',\n",
              "                                                     [key], {});\n",
              "          if (!dataTable) return;\n",
              "\n",
              "          const docLinkHtml = 'Like what you see? Visit the ' +\n",
              "            '<a target=\"_blank\" href=https://colab.research.google.com/notebooks/data_table.ipynb>data table notebook</a>'\n",
              "            + ' to learn more about interactive tables.';\n",
              "          element.innerHTML = '';\n",
              "          dataTable['output_type'] = 'display_data';\n",
              "          await google.colab.output.renderOutput(dataTable, element);\n",
              "          const docLink = document.createElement('div');\n",
              "          docLink.innerHTML = docLinkHtml;\n",
              "          element.appendChild(docLink);\n",
              "        }\n",
              "      </script>\n",
              "    </div>\n",
              "  </div>\n",
              "  "
            ]
          },
          "metadata": {},
          "execution_count": 4
        }
      ]
    },
    {
      "cell_type": "code",
      "source": [
        "test"
      ],
      "metadata": {
        "id": "ULwRCvg7PsND"
      },
      "execution_count": null,
      "outputs": []
    },
    {
      "cell_type": "code",
      "source": [
        "test.describe()"
      ],
      "metadata": {
        "id": "pwaJUCFKPta2"
      },
      "execution_count": null,
      "outputs": []
    },
    {
      "cell_type": "markdown",
      "source": [
        "Objetivo Seu trabalho é prever se um passageiro sobreviveu ou não ao naufrágio do Titanic:\n",
        "\n",
        "Análise Exploratória e Visualização de Dados:\n",
        "\n",
        "1. Explore a distribuição de características-chave, como idade, sexo, classe socioeconômica e taxa de sobrevivência.\n",
        "2. Identifique padrões ou correlações entre as características e a sobrevivência dos passageiros.\n",
        "3. Visualize esses padrões por meio de gráficos de barras, histogramas, gráficos de dispersão ou boxplots.\n",
        "4. Investigue se existem diferenças na taxa de sobrevivência entre\n",
        "grupos, como homens e mulheres, ou diferentes classes de passageiros."
      ],
      "metadata": {
        "id": "2YYcoQxjfLTY"
      }
    },
    {
      "cell_type": "code",
      "source": [
        "sns.countplot(x = 'Sex', hue = \"Survived\", data = train)\n",
        "plt.legend(loc = 'upper right', title ='Survived ~ Sex')"
      ],
      "metadata": {
        "colab": {
          "base_uri": "https://localhost:8080/",
          "height": 466
        },
        "id": "DTYL1_1Qxco1",
        "outputId": "f0f21537-bf47-4791-dc7f-cc8abd9457d4"
      },
      "execution_count": null,
      "outputs": [
        {
          "output_type": "execute_result",
          "data": {
            "text/plain": [
              "<matplotlib.legend.Legend at 0x7f9466de8b20>"
            ]
          },
          "metadata": {},
          "execution_count": 5
        },
        {
          "output_type": "display_data",
          "data": {
            "text/plain": [
              "<Figure size 640x480 with 1 Axes>"
            ],
            "image/png": "[encoded data removed]"
          },
          "metadata": {}
        }
      ]
    },
    {
      "cell_type": "markdown",
      "source": [
        "-Grande maioria dos homens não sobreviveu, cerca de aproximadamente 1/4 sobreviveu.\n",
        "\n",
        "-Maioria das mulheres sobreviveu, aproximadamente 1/3 apenas não sobreviveu."
      ],
      "metadata": {
        "id": "zOZStjMN2-wo"
      }
    },
    {
      "cell_type": "code",
      "source": [
        "sns.stripplot(x='Sex', y='Age', data=train, hue='Survived')"
      ],
      "metadata": {
        "colab": {
          "base_uri": "https://localhost:8080/",
          "height": 466
        },
        "id": "BTVorLLYgNgW",
        "outputId": "445cddf7-9d4c-41be-f4ed-93eb841582dd"
      },
      "execution_count": null,
      "outputs": [
        {
          "output_type": "execute_result",
          "data": {
            "text/plain": [
              "<Axes: xlabel='Sex', ylabel='Age'>"
            ]
          },
          "metadata": {},
          "execution_count": 60
        },
        {
          "output_type": "display_data",
          "data": {
            "text/plain": [
              "<Figure size 640x480 with 1 Axes>"
            ],
            "image/png": "[encoded data removed]"
          },
          "metadata": {}
        }
      ]
    },
    {
      "cell_type": "code",
      "source": [
        "sns.barplot(x='Pclass', y='Survived', data=data)"
      ],
      "metadata": {
        "colab": {
          "base_uri": "https://localhost:8080/",
          "height": 466
        },
        "id": "tADxQ3ZtgPLe",
        "outputId": "c7e18168-4624-485a-8a60-5988a86e5e53"
      },
      "execution_count": null,
      "outputs": [
        {
          "output_type": "execute_result",
          "data": {
            "text/plain": [
              "<Axes: xlabel='Pclass', ylabel='Survived'>"
            ]
          },
          "metadata": {},
          "execution_count": 61
        },
        {
          "output_type": "display_data",
          "data": {
            "text/plain": [
              "<Figure size 640x480 with 1 Axes>"
            ],
            "image/png": "[encoded data removed]"
          },
          "metadata": {}
        }
      ]
    },
    {
      "cell_type": "code",
      "source": [
        "sns.countplot(x ='Embarked', hue ='Survived', data =train)\n",
        "plt.legend(loc = 'upper right', title = 'Survived ~ Embarked')"
      ],
      "metadata": {
        "colab": {
          "base_uri": "https://localhost:8080/",
          "height": 462
        },
        "id": "JXlRcxQF67p6",
        "outputId": "fc80bfe4-e1f1-488f-f4a5-e20633d6ee7d"
      },
      "execution_count": null,
      "outputs": [
        {
          "output_type": "execute_result",
          "data": {
            "text/plain": [
              "<matplotlib.legend.Legend at 0x7fd3db480eb0>"
            ]
          },
          "metadata": {},
          "execution_count": 36
        },
        {
          "output_type": "display_data",
          "data": {
            "text/plain": [
              "<Figure size 640x480 with 1 Axes>"
            ],
            "image/png": "[encoded data removed]"
          },
          "metadata": {}
        }
      ]
    },
    {
      "cell_type": "markdown",
      "source": [
        "O lugar de embarque não deve afetar a probabilidade de sobrevivencia, já que não representa nenhum padrão consideravel."
      ],
      "metadata": {
        "id": "eOBCug4fBa07"
      }
    },
    {
      "cell_type": "code",
      "source": [
        "train.drop('Embarked', axis=1, inplace=True)"
      ],
      "metadata": {
        "id": "Ew7nkiZ--jev"
      },
      "execution_count": null,
      "outputs": []
    },
    {
      "cell_type": "markdown",
      "source": [
        "A passagem, cabine, nome e id do passageiro não representam um padrão que possa ser calculado a taxa de sobrevivencia."
      ],
      "metadata": {
        "id": "yGrT5BEo_MqV"
      }
    },
    {
      "cell_type": "code",
      "source": [
        "train.drop(['PassengerId','Name','Cabin','Ticket'],axis=1, inplace=True)"
      ],
      "metadata": {
        "id": "-fW7Uqrf-51F"
      },
      "execution_count": null,
      "outputs": []
    },
    {
      "cell_type": "markdown",
      "source": [
        "Restam apenas os dados da classe em que o passageiro viajava, taxa, sexo, idade, e se estava acompanhado para calcular a taxa de sobrevivencia."
      ],
      "metadata": {
        "id": "N3fAnBHGAlXQ"
      }
    },
    {
      "cell_type": "code",
      "source": [
        "train"
      ],
      "metadata": {
        "id": "DTZHyFcS-8Wz"
      },
      "execution_count": null,
      "outputs": []
    },
    {
      "cell_type": "code",
      "source": [
        "train.isnull().sum()"
      ],
      "metadata": {
        "colab": {
          "base_uri": "https://localhost:8080/"
        },
        "id": "l4wjEDfuBpFO",
        "outputId": "2c1bf037-83e8-4bde-c0c5-69807f120571"
      },
      "execution_count": null,
      "outputs": [
        {
          "output_type": "execute_result",
          "data": {
            "text/plain": [
              "Survived      0\n",
              "Pclass        0\n",
              "Sex           0\n",
              "Age         177\n",
              "SibSp         0\n",
              "Parch         0\n",
              "Fare          0\n",
              "dtype: int64"
            ]
          },
          "metadata": {},
          "execution_count": 7
        }
      ]
    },
    {
      "cell_type": "code",
      "source": [
        "plt.figure( figsize=(15, 8) )\n",
        "plt.style.use('seaborn-dark')\n",
        "plt.title('Idade dos passageiros', fontsize=20, fontweight='bold')\n",
        "plt.hist(train.Age)\n",
        "plt.xlabel('Idade')\n",
        "plt.ylabel('Num passageiros')\n",
        "plt.savefig('histograma_idade.png')\n",
        "\n",
        "plt.show()"
      ],
      "metadata": {
        "colab": {
          "base_uri": "https://localhost:8080/",
          "height": 774
        },
        "id": "BPheeFNH_luP",
        "outputId": "3930a0fe-eb87-4c40-f25e-e433696ec0be"
      },
      "execution_count": null,
      "outputs": [
        {
          "output_type": "stream",
          "name": "stderr",
          "text": [
            "<ipython-input-10-3bfc4dc87c00>:2: MatplotlibDeprecationWarning: The seaborn styles shipped by Matplotlib are deprecated since 3.6, as they no longer correspond to the styles shipped by seaborn. However, they will remain available as 'seaborn-v0_8-<style>'. Alternatively, directly use the seaborn API instead.\n",
            "  plt.style.use('seaborn-dark')\n"
          ]
        },
        {
          "output_type": "display_data",
          "data": {
            "text/plain": [
              "<Figure size 1500x800 with 1 Axes>"
            ],
            "image/png": "[encoded data removed]"
          },
          "metadata": {}
        }
      ]
    },
    {
      "cell_type": "code",
      "source": [
        "plt.figure( figsize=(18, 10) )\n",
        "plt.style.use('seaborn-dark')\n",
        "figure = plt.figure(figsize=(15,8))\n",
        "plt.hist([train[train['Survived']==1]['Age'], train[train['Survived']==0]['Age']],\n",
        "         stacked=True, color=['g','r'],\n",
        "         bins=30, label=['Sobreviventes','Não-Sobreviventes'])\n",
        "plt.xlabel('Idade')\n",
        "plt.ylabel('No. passengers')\n",
        "plt.savefig('idade_sobreviventes.png')\n",
        "plt.title('Sobreviventes x Não sobreviventes por idade', fontsize=20, fontweight='bold')\n",
        "plt.legend();"
      ],
      "metadata": {
        "colab": {
          "base_uri": "https://localhost:8080/",
          "height": 791
        },
        "id": "rDsVb1iSAWAd",
        "outputId": "be5dc99a-4471-47ac-f338-70ccd6eb620a"
      },
      "execution_count": null,
      "outputs": [
        {
          "output_type": "stream",
          "name": "stderr",
          "text": [
            "<ipython-input-81-62e90e2f8295>:2: MatplotlibDeprecationWarning: The seaborn styles shipped by Matplotlib are deprecated since 3.6, as they no longer correspond to the styles shipped by seaborn. However, they will remain available as 'seaborn-v0_8-<style>'. Alternatively, directly use the seaborn API instead.\n",
            "  plt.style.use('seaborn-dark')\n"
          ]
        },
        {
          "output_type": "display_data",
          "data": {
            "text/plain": [
              "<Figure size 1800x1000 with 0 Axes>"
            ]
          },
          "metadata": {}
        },
        {
          "output_type": "display_data",
          "data": {
            "text/plain": [
              "<Figure size 1500x800 with 1 Axes>"
            ],
            "image/png": "[encoded data removed]"
          },
          "metadata": {}
        }
      ]
    },
    {
      "cell_type": "code",
      "source": [
        "train['AgeGroup'] = pd.cut(train['Age'], bins=[0, 18, 30, 50, 100], labels=['0-18', '19-30', '31-50', '51+'])\n",
        "probabilidade_por_idade = train.groupby('AgeGroup')['Survived'].mean()"
      ],
      "metadata": {
        "id": "JHvodpyxhtjM"
      },
      "execution_count": null,
      "outputs": []
    },
    {
      "cell_type": "code",
      "source": [
        "train['AgeGroup']"
      ],
      "metadata": {
        "colab": {
          "base_uri": "https://localhost:8080/"
        },
        "id": "r-J3fuAkhvg1",
        "outputId": "2eb50d65-3fb9-4b03-dde0-3ed50995f8b9"
      },
      "execution_count": null,
      "outputs": [
        {
          "output_type": "execute_result",
          "data": {
            "text/plain": [
              "0      19-30\n",
              "1      31-50\n",
              "2      19-30\n",
              "3      31-50\n",
              "4      31-50\n",
              "       ...  \n",
              "886    19-30\n",
              "887    19-30\n",
              "888      NaN\n",
              "889    19-30\n",
              "890    31-50\n",
              "Name: AgeGroup, Length: 891, dtype: category\n",
              "Categories (4, object): ['0-18' < '19-30' < '31-50' < '51+']"
            ]
          },
          "metadata": {},
          "execution_count": 9
        }
      ]
    },
    {
      "cell_type": "code",
      "source": [
        "sns.barplot(x='AgeGroup', y='Survived', data=train)"
      ],
      "metadata": {
        "colab": {
          "base_uri": "https://localhost:8080/",
          "height": 462
        },
        "id": "cDMaNCrLgQxO",
        "outputId": "5919b2e8-497f-46af-acd6-10b1685c8e60"
      },
      "execution_count": null,
      "outputs": [
        {
          "output_type": "execute_result",
          "data": {
            "text/plain": [
              "<Axes: xlabel='AgeGroup', ylabel='Survived'>"
            ]
          },
          "metadata": {},
          "execution_count": 13
        },
        {
          "output_type": "display_data",
          "data": {
            "text/plain": [
              "<Figure size 640x480 with 1 Axes>"
            ],
            "image/png": "[encoded data removed]"
          },
          "metadata": {}
        }
      ]
    },
    {
      "cell_type": "markdown",
      "source": [
        "Divisão das idades em grupos para facilitar a interpretação."
      ],
      "metadata": {
        "id": "sHw8NQaEDbJN"
      }
    },
    {
      "cell_type": "code",
      "source": [
        "plt.figure( figsize=(20, 8) )\n",
        "plt.style.use('seaborn-dark')\n",
        "age_survived = sns.FacetGrid(train, col='Survived')\n",
        "age_survived.map(sns.distplot, 'Age')"
      ],
      "metadata": {
        "colab": {
          "base_uri": "https://localhost:8080/",
          "height": 779
        },
        "id": "g3XEgbkmBpn_",
        "outputId": "c1f732e0-32de-423a-afab-ea6c4c4c9c1d"
      },
      "execution_count": null,
      "outputs": [
        {
          "output_type": "stream",
          "name": "stderr",
          "text": [
            "<ipython-input-34-e7d4db4875eb>:2: MatplotlibDeprecationWarning: The seaborn styles shipped by Matplotlib are deprecated since 3.6, as they no longer correspond to the styles shipped by seaborn. However, they will remain available as 'seaborn-v0_8-<style>'. Alternatively, directly use the seaborn API instead.\n",
            "  plt.style.use('seaborn-dark')\n",
            "/usr/local/lib/python3.10/dist-packages/seaborn/axisgrid.py:848: UserWarning: \n",
            "\n",
            "`distplot` is a deprecated function and will be removed in seaborn v0.14.0.\n",
            "\n",
            "Please adapt your code to use either `displot` (a figure-level function with\n",
            "similar flexibility) or `histplot` (an axes-level function for histograms).\n",
            "\n",
            "For a guide to updating your code to use the new functions, please see\n",
            "https://gist.github.com/mwaskom/de44147ed2974457ad6372750bbe5751\n",
            "\n",
            "  func(*plot_args, **plot_kwargs)\n",
            "/usr/local/lib/python3.10/dist-packages/seaborn/axisgrid.py:848: UserWarning: \n",
            "\n",
            "`distplot` is a deprecated function and will be removed in seaborn v0.14.0.\n",
            "\n",
            "Please adapt your code to use either `displot` (a figure-level function with\n",
            "similar flexibility) or `histplot` (an axes-level function for histograms).\n",
            "\n",
            "For a guide to updating your code to use the new functions, please see\n",
            "https://gist.github.com/mwaskom/de44147ed2974457ad6372750bbe5751\n",
            "\n",
            "  func(*plot_args, **plot_kwargs)\n"
          ]
        },
        {
          "output_type": "execute_result",
          "data": {
            "text/plain": [
              "<seaborn.axisgrid.FacetGrid at 0x7f9990e9f400>"
            ]
          },
          "metadata": {},
          "execution_count": 34
        },
        {
          "output_type": "display_data",
          "data": {
            "text/plain": [
              "<Figure size 2000x800 with 0 Axes>"
            ]
          },
          "metadata": {}
        },
        {
          "output_type": "display_data",
          "data": {
            "text/plain": [
              "<Figure size 600x300 with 2 Axes>"
            ],
            "image/png": "[encoded data removed]"
          },
          "metadata": {}
        }
      ]
    },
    {
      "cell_type": "markdown",
      "source": [
        "Dados nulos precisam ser preenchidos de forma que não afete negativamente."
      ],
      "metadata": {
        "id": "ee_Zn3A3ChBh"
      }
    },
    {
      "cell_type": "code",
      "source": [
        "train['Age'].fillna(train['Age'].median(skipna=True), inplace=True)"
      ],
      "metadata": {
        "id": "Bs-yaIiRBXeP"
      },
      "execution_count": null,
      "outputs": []
    },
    {
      "cell_type": "markdown",
      "source": [
        "Medidas de Tendência Central e Medidas de Dispersão:\n",
        "\n",
        "1. Calcule a média de idades dos passageiros e identifique possíveis diferenças entre os grupos de sobreviventes e não sobreviventes.\n",
        "2. Determine a variação da tarifa paga pelos passageiros e compare-a entre grupos.\n",
        "3. Calcule a porcentagem de sobreviventes em cada classe socioeconômica e explore as diferenças entre elas."
      ],
      "metadata": {
        "id": "fyMmIGJWflOL"
      }
    },
    {
      "cell_type": "code",
      "source": [
        "sobreviventes = train.loc[train['Survived'] == 1]\n",
        "mortos = train.loc[train['Survived'] == 0]\n",
        "\n",
        "print(\"Quantidade de sobreviventes:\", sobreviventes['Sex'].count())\n",
        "print(\"Quantidade de não sobreviventes:\", mortos['Sex'].count())"
      ],
      "metadata": {
        "colab": {
          "base_uri": "https://localhost:8080/"
        },
        "id": "A7Ky-w00Rjr9",
        "outputId": "c1af3e7a-1fec-4f7b-b847-ac202022a58d"
      },
      "execution_count": null,
      "outputs": [
        {
          "output_type": "stream",
          "name": "stdout",
          "text": [
            "Quantidade de sobreviventes: 342\n",
            "Quantidade de não sobreviventes: 549\n"
          ]
        }
      ]
    },
    {
      "cell_type": "code",
      "source": [
        "media_idades = train['Age'].mean()\n",
        "\n",
        "media_sobreviventes = train[train['Survived'] == 1]['Age'].mean()\n",
        "media_nao_sobreviventes = train[train['Survived'] == 0]['Age'].mean()\n",
        "\n",
        "print(\"Média de idades dos passageiros:\", media_idades)\n",
        "print(\"Média de idades dos sobreviventes:\", media_sobreviventes)\n",
        "print(\"Média de idades dos não sobreviventes:\", media_nao_sobreviventes)"
      ],
      "metadata": {
        "colab": {
          "base_uri": "https://localhost:8080/"
        },
        "id": "i8bHIon6Ejxe",
        "outputId": "96fd5634-3e02-416d-acb1-2c419b381044"
      },
      "execution_count": null,
      "outputs": [
        {
          "output_type": "stream",
          "name": "stdout",
          "text": [
            "Média de idades dos passageiros: 29.69911764705882\n",
            "Média de idades dos sobreviventes: 28.343689655172415\n",
            "Média de idades dos não sobreviventes: 30.62617924528302\n"
          ]
        }
      ]
    },
    {
      "cell_type": "markdown",
      "source": [
        "Aparentemente passageiros mais novos são a maioria entre os sobreviventes, já os mais velhos maioria entre vitimas."
      ],
      "metadata": {
        "id": "PC7dRWTAtSsn"
      }
    },
    {
      "cell_type": "code",
      "source": [
        "variacao_tarifa = np.var(train['Fare'])\n",
        "\n",
        "variacao_tarifa_sobreviventes = np.var(train[train['Survived'] == 1]['Fare'])\n",
        "variacao_tarifa_naosobreviventes = np.var(train[train['Survived'] == 0]['Fare'])\n",
        "\n",
        "print(\"Variação da tarifa paga pelos passageiros:\", variacao_tarifa)\n",
        "print(\"Variação da tarifa paga pelos sobreviventes:\", variacao_tarifa_sobreviventes)\n",
        "print(\"Variação da tarifa paga pelos não sobreviventes:\", variacao_tarifa_naosobreviventes)"
      ],
      "metadata": {
        "colab": {
          "base_uri": "https://localhost:8080/"
        },
        "id": "VoLcAE0AoHHh",
        "outputId": "4f231074-aa6b-47bc-cfa7-4d5958bf152e"
      },
      "execution_count": null,
      "outputs": [
        {
          "output_type": "stream",
          "name": "stdout",
          "text": [
            "Variação da tarifa paga pelos passageiros: 2466.665311685043\n",
            "Variação da tarifa paga pelos sobreviventes: 4422.1918538115215\n",
            "Variação da tarifa paga pelos não sobreviventes: 983.4249381503198\n"
          ]
        }
      ]
    },
    {
      "cell_type": "code",
      "source": [
        "sobreviventes_por_classe = sobreviventes['Pclass'].value_counts(normalize=True)\n",
        "print(\"Sobreviventes da 1ª classe:\", sobreviventes_por_classe[1],\" %\")\n",
        "print(\"Sobreviventes da 2ª classe:\", sobreviventes_por_classe[2],\" %\")\n",
        "print(\"Sobreviventes da 3ª classe:\", sobreviventes_por_classe[3],\" %\")\n",
        "print()\n",
        "não_sobreviventes_por_classe = mortos['Pclass'].value_counts(normalize=True)\n",
        "print(\"Não sobreviventes da 1ª classe:\", não_sobreviventes_por_classe[1],\" %\")\n",
        "print(\"Não sobreviventes da 2ª classe:\", não_sobreviventes_por_classe[2],\" %\")\n",
        "print(\"Não sobreviventes da 3ª classe:\", não_sobreviventes_por_classe[3],\" %\")"
      ],
      "metadata": {
        "colab": {
          "base_uri": "https://localhost:8080/"
        },
        "id": "pwHkcJINNvih",
        "outputId": "e42afc55-64ee-4091-9bad-ee4a3ea991b0"
      },
      "execution_count": null,
      "outputs": [
        {
          "output_type": "stream",
          "name": "stdout",
          "text": [
            "Sobreviventes da 1ª classe: 0.39766081871345027  %\n",
            "Sobreviventes da 2ª classe: 0.2543859649122807  %\n",
            "Sobreviventes da 3ª classe: 0.347953216374269  %\n",
            "\n",
            "Não sobreviventes da 1ª classe: 0.14571948998178508  %\n",
            "Não sobreviventes da 2ª classe: 0.1766848816029144  %\n",
            "Não sobreviventes da 3ª classe: 0.6775956284153005  %\n"
          ]
        }
      ]
    },
    {
      "cell_type": "markdown",
      "source": [
        "Como as classes mais altas são minoria entre os passageiros, e as mais baixas são a maioria entre os não sobreviventes, o percentual entre os sobreviventes se assemelha, mas entre os mortos é disparadamente maior."
      ],
      "metadata": {
        "id": "hcmXK2Mvtpx2"
      }
    },
    {
      "cell_type": "code",
      "source": [
        "sobreviventes_por_sexo = sobreviventes['Sex'].value_counts(normalize=True)\n",
        "print(\"Sobreviventes do sexo Feminino: \", sobreviventes_por_sexo['female'],\" %\")\n",
        "print(\"Sobreviventes do sexo Masculino:\", sobreviventes_por_sexo['male'],\" %\")\n",
        "print()\n",
        "não_sobreviventes_por_sexo = mortos['Sex'].value_counts(normalize=True)\n",
        "print(\"Não sobreviventes do sexo Feminino: \", não_sobreviventes_por_sexo['female'],\" %\")\n",
        "print(\"Não sobreviventes do sexo Masculino:\", não_sobreviventes_por_sexo['male'],\" %\")"
      ],
      "metadata": {
        "colab": {
          "base_uri": "https://localhost:8080/"
        },
        "id": "MBomJFZFNqG1",
        "outputId": "b39025f3-9547-4bce-f6b6-b73e352ebbeb"
      },
      "execution_count": null,
      "outputs": [
        {
          "output_type": "stream",
          "name": "stdout",
          "text": [
            "Sobreviventes do sexo Feminino:  0.6812865497076024  %\n",
            "Sobreviventes do sexo Masculino: 0.31871345029239767  %\n",
            "\n",
            "Não sobreviventes do sexo Feminino:  0.14754098360655737  %\n",
            "Não sobreviventes do sexo Masculino: 0.8524590163934426  %\n"
          ]
        }
      ]
    },
    {
      "cell_type": "markdown",
      "source": [
        "A maioria entre os sobreviventes é do sexo feminino, pois foram prioridade no salvamento, já entre os não sobreviventes a grande maioria é do sexo masculino pois eram maioria entre os passageiros e também por serem os ultimos na prioridade da evacuação."
      ],
      "metadata": {
        "id": "uhL1hwE8ujAu"
      }
    },
    {
      "cell_type": "code",
      "source": [
        "passageiros_por_idade = pd.cut(train['Age'], bins=[0, 18, 30, 50, 100]).value_counts(normalize=True)\n",
        "print(\"Passageiros de 0 à 18 anos:  \", passageiros_por_idade[1],\" %\")\n",
        "print(\"Passageiros de 19 à 30 anos: \", passageiros_por_idade[19],\" %\")\n",
        "print(\"Passageiros de 31 à 50 anos: \", passageiros_por_idade[31],\" %\")\n",
        "print(\"Passageiros de 51 à 100 anos:\", passageiros_por_idade[51],\" %\")\n",
        "print()\n",
        "sobreviventes_por_idade = pd.cut(sobreviventes['Age'], bins=[0, 18, 30, 50, 100]).value_counts(normalize=True)\n",
        "print(\"Sobreviventes de 0 à 18 anos:  \", sobreviventes_por_idade[1],\" %\")\n",
        "print(\"Sobreviventes de 19 à 30 anos: \", sobreviventes_por_idade[19],\" %\")\n",
        "print(\"Sobreviventes de 31 à 50 anos: \", sobreviventes_por_idade[31],\" %\")\n",
        "print(\"Sobreviventes de 51 à 100 anos:\", sobreviventes_por_idade[51],\" %\")\n",
        "print()\n",
        "não_sobreviventes_por_idade = pd.cut(mortos['Age'], bins=[0, 18, 30, 50, 100]).value_counts(normalize=True)\n",
        "print(\"Não sobreviventes de 0 à 18 anos:  \", não_sobreviventes_por_idade[1],\" %\")\n",
        "print(\"Não sobreviventes de 19 à 30 anos: \", não_sobreviventes_por_idade[19],\" %\")\n",
        "print(\"Não sobreviventes de 31 à 50 anos: \", não_sobreviventes_por_idade[31],\" %\")\n",
        "print(\"Não sobreviventes de 51 à 100 anos:\", não_sobreviventes_por_idade[51],\" %\")"
      ],
      "metadata": {
        "colab": {
          "base_uri": "https://localhost:8080/"
        },
        "id": "DKNY6nodNxjz",
        "outputId": "398d00aa-e99d-4965-eb34-f04eb285ba0f"
      },
      "execution_count": null,
      "outputs": [
        {
          "output_type": "stream",
          "name": "stdout",
          "text": [
            "Passageiros de 0 à 18 anos:   0.19467787114845939  %\n",
            "Passageiros de 19 à 30 anos:  0.37815126050420167  %\n",
            "Passageiros de 31 à 50 anos:  0.33753501400560226  %\n",
            "Passageiros de 51 à 100 anos: 0.0896358543417367  %\n",
            "\n",
            "Sobreviventes de 0 à 18 anos:   0.2413793103448276  %\n",
            "Sobreviventes de 19 à 30 anos:  0.3310344827586207  %\n",
            "Sobreviventes de 31 à 50 anos:  0.35172413793103446  %\n",
            "Sobreviventes de 51 à 100 anos: 0.07586206896551724  %\n",
            "\n",
            "Não sobreviventes de 0 à 18 anos:   0.16273584905660377  %\n",
            "Não sobreviventes de 19 à 30 anos:  0.41037735849056606  %\n",
            "Não sobreviventes de 31 à 50 anos:  0.3278301886792453  %\n",
            "Não sobreviventes de 51 à 100 anos: 0.09905660377358491  %\n"
          ]
        }
      ]
    },
    {
      "cell_type": "code",
      "source": [
        "train"
      ],
      "metadata": {
        "id": "Y3OjTykfHSgL",
        "colab": {
          "base_uri": "https://localhost:8080/",
          "height": 424
        },
        "outputId": "8b367f45-0083-4ba2-fe6d-d375016595ba"
      },
      "execution_count": null,
      "outputs": [
        {
          "output_type": "execute_result",
          "data": {
            "text/plain": [
              "     Survived  Pclass  Sex   Age  SibSp  Parch     Fare AgeGroup\n",
              "0           0       3    0  22.0      1      0   7.2500    19-30\n",
              "1           1       1    1  38.0      1      0  71.2833    31-50\n",
              "2           1       3    1  26.0      0      0   7.9250    19-30\n",
              "3           1       1    1  35.0      1      0  53.1000    31-50\n",
              "4           0       3    0  35.0      0      0   8.0500    31-50\n",
              "..        ...     ...  ...   ...    ...    ...      ...      ...\n",
              "886         0       2    0  27.0      0      0  13.0000    19-30\n",
              "887         1       1    1  19.0      0      0  30.0000    19-30\n",
              "888         0       3    1  28.0      1      2  23.4500      NaN\n",
              "889         1       1    0  26.0      0      0  30.0000    19-30\n",
              "890         0       3    0  32.0      0      0   7.7500    31-50\n",
              "\n",
              "[891 rows x 8 columns]"
            ],
            "text/html": [
              "\n",
              "  <div id=\"df-a9332e51-cc19-42b6-b3af-337489ae7b1d\">\n",
              "    <div class=\"colab-df-container\">\n",
              "      <div>\n",
              "<style scoped>\n",
              "    .dataframe tbody tr th:only-of-type {\n",
              "        vertical-align: middle;\n",
              "    }\n",
              "\n",
              "    .dataframe tbody tr th {\n",
              "        vertical-align: top;\n",
              "    }\n",
              "\n",
              "    .dataframe thead th {\n",
              "        text-align: right;\n",
              "    }\n",
              "</style>\n",
              "<table border=\"1\" class=\"dataframe\">\n",
              "  <thead>\n",
              "    <tr style=\"text-align: right;\">\n",
              "      <th></th>\n",
              "      <th>Survived</th>\n",
              "      <th>Pclass</th>\n",
              "      <th>Sex</th>\n",
              "      <th>Age</th>\n",
              "      <th>SibSp</th>\n",
              "      <th>Parch</th>\n",
              "      <th>Fare</th>\n",
              "      <th>AgeGroup</th>\n",
              "    </tr>\n",
              "  </thead>\n",
              "  <tbody>\n",
              "    <tr>\n",
              "      <th>0</th>\n",
              "      <td>0</td>\n",
              "      <td>3</td>\n",
              "      <td>0</td>\n",
              "      <td>22.0</td>\n",
              "      <td>1</td>\n",
              "      <td>0</td>\n",
              "      <td>7.2500</td>\n",
              "      <td>19-30</td>\n",
              "    </tr>\n",
              "    <tr>\n",
              "      <th>1</th>\n",
              "      <td>1</td>\n",
              "      <td>1</td>\n",
              "      <td>1</td>\n",
              "      <td>38.0</td>\n",
              "      <td>1</td>\n",
              "      <td>0</td>\n",
              "      <td>71.2833</td>\n",
              "      <td>31-50</td>\n",
              "    </tr>\n",
              "    <tr>\n",
              "      <th>2</th>\n",
              "      <td>1</td>\n",
              "      <td>3</td>\n",
              "      <td>1</td>\n",
              "      <td>26.0</td>\n",
              "      <td>0</td>\n",
              "      <td>0</td>\n",
              "      <td>7.9250</td>\n",
              "      <td>19-30</td>\n",
              "    </tr>\n",
              "    <tr>\n",
              "      <th>3</th>\n",
              "      <td>1</td>\n",
              "      <td>1</td>\n",
              "      <td>1</td>\n",
              "      <td>35.0</td>\n",
              "      <td>1</td>\n",
              "      <td>0</td>\n",
              "      <td>53.1000</td>\n",
              "      <td>31-50</td>\n",
              "    </tr>\n",
              "    <tr>\n",
              "      <th>4</th>\n",
              "      <td>0</td>\n",
              "      <td>3</td>\n",
              "      <td>0</td>\n",
              "      <td>35.0</td>\n",
              "      <td>0</td>\n",
              "      <td>0</td>\n",
              "      <td>8.0500</td>\n",
              "      <td>31-50</td>\n",
              "    </tr>\n",
              "    <tr>\n",
              "      <th>...</th>\n",
              "      <td>...</td>\n",
              "      <td>...</td>\n",
              "      <td>...</td>\n",
              "      <td>...</td>\n",
              "      <td>...</td>\n",
              "      <td>...</td>\n",
              "      <td>...</td>\n",
              "      <td>...</td>\n",
              "    </tr>\n",
              "    <tr>\n",
              "      <th>886</th>\n",
              "      <td>0</td>\n",
              "      <td>2</td>\n",
              "      <td>0</td>\n",
              "      <td>27.0</td>\n",
              "      <td>0</td>\n",
              "      <td>0</td>\n",
              "      <td>13.0000</td>\n",
              "      <td>19-30</td>\n",
              "    </tr>\n",
              "    <tr>\n",
              "      <th>887</th>\n",
              "      <td>1</td>\n",
              "      <td>1</td>\n",
              "      <td>1</td>\n",
              "      <td>19.0</td>\n",
              "      <td>0</td>\n",
              "      <td>0</td>\n",
              "      <td>30.0000</td>\n",
              "      <td>19-30</td>\n",
              "    </tr>\n",
              "    <tr>\n",
              "      <th>888</th>\n",
              "      <td>0</td>\n",
              "      <td>3</td>\n",
              "      <td>1</td>\n",
              "      <td>28.0</td>\n",
              "      <td>1</td>\n",
              "      <td>2</td>\n",
              "      <td>23.4500</td>\n",
              "      <td>NaN</td>\n",
              "    </tr>\n",
              "    <tr>\n",
              "      <th>889</th>\n",
              "      <td>1</td>\n",
              "      <td>1</td>\n",
              "      <td>0</td>\n",
              "      <td>26.0</td>\n",
              "      <td>0</td>\n",
              "      <td>0</td>\n",
              "      <td>30.0000</td>\n",
              "      <td>19-30</td>\n",
              "    </tr>\n",
              "    <tr>\n",
              "      <th>890</th>\n",
              "      <td>0</td>\n",
              "      <td>3</td>\n",
              "      <td>0</td>\n",
              "      <td>32.0</td>\n",
              "      <td>0</td>\n",
              "      <td>0</td>\n",
              "      <td>7.7500</td>\n",
              "      <td>31-50</td>\n",
              "    </tr>\n",
              "  </tbody>\n",
              "</table>\n",
              "<p>891 rows × 8 columns</p>\n",
              "</div>\n",
              "      <button class=\"colab-df-convert\" onclick=\"convertToInteractive('df-a9332e51-cc19-42b6-b3af-337489ae7b1d')\"\n",
              "              title=\"Convert this dataframe to an interactive table.\"\n",
              "              style=\"display:none;\">\n",
              "        \n",
              "  <svg xmlns=\"http://www.w3.org/2000/svg\" height=\"24px\"viewBox=\"0 0 24 24\"\n",
              "       width=\"24px\">\n",
              "    <path d=\"M0 0h24v24H0V0z\" fill=\"none\"/>\n",
              "    <path d=\"M18.56 5.44l.94 2.06.94-2.06 2.06-.94-2.06-.94-.94-2.06-.94 2.06-2.06.94zm-11 1L8.5 8.5l.94-2.06 2.06-.94-2.06-.94L8.5 2.5l-.94 2.06-2.06.94zm10 10l.94 2.06.94-2.06 2.06-.94-2.06-.94-.94-2.06-.94 2.06-2.06.94z\"/><path d=\"M17.41 7.96l-1.37-1.37c-.4-.4-.92-.59-1.43-.59-.52 0-1.04.2-1.43.59L10.3 9.45l-7.72 7.72c-.78.78-.78 2.05 0 2.83L4 21.41c.39.39.9.59 1.41.59.51 0 1.02-.2 1.41-.59l7.78-7.78 2.81-2.81c.8-.78.8-2.07 0-2.86zM5.41 20L4 18.59l7.72-7.72 1.47 1.35L5.41 20z\"/>\n",
              "  </svg>\n",
              "      </button>\n",
              "      \n",
              "  <style>\n",
              "    .colab-df-container {\n",
              "      display:flex;\n",
              "      flex-wrap:wrap;\n",
              "      gap: 12px;\n",
              "    }\n",
              "\n",
              "    .colab-df-convert {\n",
              "      background-color: #E8F0FE;\n",
              "      border: none;\n",
              "      border-radius: 50%;\n",
              "      cursor: pointer;\n",
              "      display: none;\n",
              "      fill: #1967D2;\n",
              "      height: 32px;\n",
              "      padding: 0 0 0 0;\n",
              "      width: 32px;\n",
              "    }\n",
              "\n",
              "    .colab-df-convert:hover {\n",
              "      background-color: #E2EBFA;\n",
              "      box-shadow: 0px 1px 2px rgba(60, 64, 67, 0.3), 0px 1px 3px 1px rgba(60, 64, 67, 0.15);\n",
              "      fill: #174EA6;\n",
              "    }\n",
              "\n",
              "    [theme=dark] .colab-df-convert {\n",
              "      background-color: #3B4455;\n",
              "      fill: #D2E3FC;\n",
              "    }\n",
              "\n",
              "    [theme=dark] .colab-df-convert:hover {\n",
              "      background-color: #434B5C;\n",
              "      box-shadow: 0px 1px 3px 1px rgba(0, 0, 0, 0.15);\n",
              "      filter: drop-shadow(0px 1px 2px rgba(0, 0, 0, 0.3));\n",
              "      fill: #FFFFFF;\n",
              "    }\n",
              "  </style>\n",
              "\n",
              "      <script>\n",
              "        const buttonEl =\n",
              "          document.querySelector('#df-a9332e51-cc19-42b6-b3af-337489ae7b1d button.colab-df-convert');\n",
              "        buttonEl.style.display =\n",
              "          google.colab.kernel.accessAllowed ? 'block' : 'none';\n",
              "\n",
              "        async function convertToInteractive(key) {\n",
              "          const element = document.querySelector('#df-a9332e51-cc19-42b6-b3af-337489ae7b1d');\n",
              "          const dataTable =\n",
              "            await google.colab.kernel.invokeFunction('convertToInteractive',\n",
              "                                                     [key], {});\n",
              "          if (!dataTable) return;\n",
              "\n",
              "          const docLinkHtml = 'Like what you see? Visit the ' +\n",
              "            '<a target=\"_blank\" href=https://colab.research.google.com/notebooks/data_table.ipynb>data table notebook</a>'\n",
              "            + ' to learn more about interactive tables.';\n",
              "          element.innerHTML = '';\n",
              "          dataTable['output_type'] = 'display_data';\n",
              "          await google.colab.output.renderOutput(dataTable, element);\n",
              "          const docLink = document.createElement('div');\n",
              "          docLink.innerHTML = docLinkHtml;\n",
              "          element.appendChild(docLink);\n",
              "        }\n",
              "      </script>\n",
              "    </div>\n",
              "  </div>\n",
              "  "
            ]
          },
          "metadata": {},
          "execution_count": 13
        }
      ]
    },
    {
      "cell_type": "code",
      "source": [
        "train.replace({'Sex':{'male':0,'female':1}},inplace=True)"
      ],
      "metadata": {
        "id": "FyfPpV90HRkc"
      },
      "execution_count": null,
      "outputs": []
    },
    {
      "cell_type": "code",
      "source": [
        "test.drop(['PassengerId', 'Name', 'Fare', 'Ticket', 'Cabin', 'Ticket', 'Embarked'],axis=1, inplace=True)"
      ],
      "metadata": {
        "id": "7uorvSrofnbB"
      },
      "execution_count": null,
      "outputs": []
    },
    {
      "cell_type": "code",
      "source": [
        "test.isnull().sum()"
      ],
      "metadata": {
        "colab": {
          "base_uri": "https://localhost:8080/"
        },
        "id": "Z5pa_D-hh1H2",
        "outputId": "32533afe-76eb-4fc7-9834-ce30b62a4dc7"
      },
      "execution_count": null,
      "outputs": [
        {
          "output_type": "execute_result",
          "data": {
            "text/plain": [
              "PassengerId     0\n",
              "Pclass          0\n",
              "Sex             0\n",
              "Age            86\n",
              "SibSp           0\n",
              "Parch           0\n",
              "dtype: int64"
            ]
          },
          "metadata": {},
          "execution_count": 10
        }
      ]
    },
    {
      "cell_type": "code",
      "source": [
        "test['Age'].fillna(train['Age'].median(skipna=True), inplace=True)"
      ],
      "metadata": {
        "id": "xdkbUl05ioqR"
      },
      "execution_count": null,
      "outputs": []
    },
    {
      "cell_type": "code",
      "source": [
        "test.replace({'Sex':{'male':0,'female':1}},inplace=True)"
      ],
      "metadata": {
        "id": "xpzNUWNegvNB"
      },
      "execution_count": null,
      "outputs": []
    },
    {
      "cell_type": "code",
      "source": [
        "test"
      ],
      "metadata": {
        "colab": {
          "base_uri": "https://localhost:8080/",
          "height": 424
        },
        "id": "cf2AvHd3fA81",
        "outputId": "52eb226e-f773-4c23-d201-216f06009bf4"
      },
      "execution_count": null,
      "outputs": [
        {
          "output_type": "execute_result",
          "data": {
            "text/plain": [
              "     Pclass  Sex   Age  SibSp  Parch\n",
              "0         3    0  34.5      0      0\n",
              "1         3    1  47.0      1      0\n",
              "2         2    0  62.0      0      0\n",
              "3         3    0  27.0      0      0\n",
              "4         3    1  22.0      1      1\n",
              "..      ...  ...   ...    ...    ...\n",
              "413       3    0  28.0      0      0\n",
              "414       1    1  39.0      0      0\n",
              "415       3    0  38.5      0      0\n",
              "416       3    0  28.0      0      0\n",
              "417       3    0  28.0      1      1\n",
              "\n",
              "[418 rows x 5 columns]"
            ],
            "text/html": [
              "\n",
              "  <div id=\"df-db7df330-22a9-4e3a-aba6-9d450396cdfb\">\n",
              "    <div class=\"colab-df-container\">\n",
              "      <div>\n",
              "<style scoped>\n",
              "    .dataframe tbody tr th:only-of-type {\n",
              "        vertical-align: middle;\n",
              "    }\n",
              "\n",
              "    .dataframe tbody tr th {\n",
              "        vertical-align: top;\n",
              "    }\n",
              "\n",
              "    .dataframe thead th {\n",
              "        text-align: right;\n",
              "    }\n",
              "</style>\n",
              "<table border=\"1\" class=\"dataframe\">\n",
              "  <thead>\n",
              "    <tr style=\"text-align: right;\">\n",
              "      <th></th>\n",
              "      <th>Pclass</th>\n",
              "      <th>Sex</th>\n",
              "      <th>Age</th>\n",
              "      <th>SibSp</th>\n",
              "      <th>Parch</th>\n",
              "    </tr>\n",
              "  </thead>\n",
              "  <tbody>\n",
              "    <tr>\n",
              "      <th>0</th>\n",
              "      <td>3</td>\n",
              "      <td>0</td>\n",
              "      <td>34.5</td>\n",
              "      <td>0</td>\n",
              "      <td>0</td>\n",
              "    </tr>\n",
              "    <tr>\n",
              "      <th>1</th>\n",
              "      <td>3</td>\n",
              "      <td>1</td>\n",
              "      <td>47.0</td>\n",
              "      <td>1</td>\n",
              "      <td>0</td>\n",
              "    </tr>\n",
              "    <tr>\n",
              "      <th>2</th>\n",
              "      <td>2</td>\n",
              "      <td>0</td>\n",
              "      <td>62.0</td>\n",
              "      <td>0</td>\n",
              "      <td>0</td>\n",
              "    </tr>\n",
              "    <tr>\n",
              "      <th>3</th>\n",
              "      <td>3</td>\n",
              "      <td>0</td>\n",
              "      <td>27.0</td>\n",
              "      <td>0</td>\n",
              "      <td>0</td>\n",
              "    </tr>\n",
              "    <tr>\n",
              "      <th>4</th>\n",
              "      <td>3</td>\n",
              "      <td>1</td>\n",
              "      <td>22.0</td>\n",
              "      <td>1</td>\n",
              "      <td>1</td>\n",
              "    </tr>\n",
              "    <tr>\n",
              "      <th>...</th>\n",
              "      <td>...</td>\n",
              "      <td>...</td>\n",
              "      <td>...</td>\n",
              "      <td>...</td>\n",
              "      <td>...</td>\n",
              "    </tr>\n",
              "    <tr>\n",
              "      <th>413</th>\n",
              "      <td>3</td>\n",
              "      <td>0</td>\n",
              "      <td>28.0</td>\n",
              "      <td>0</td>\n",
              "      <td>0</td>\n",
              "    </tr>\n",
              "    <tr>\n",
              "      <th>414</th>\n",
              "      <td>1</td>\n",
              "      <td>1</td>\n",
              "      <td>39.0</td>\n",
              "      <td>0</td>\n",
              "      <td>0</td>\n",
              "    </tr>\n",
              "    <tr>\n",
              "      <th>415</th>\n",
              "      <td>3</td>\n",
              "      <td>0</td>\n",
              "      <td>38.5</td>\n",
              "      <td>0</td>\n",
              "      <td>0</td>\n",
              "    </tr>\n",
              "    <tr>\n",
              "      <th>416</th>\n",
              "      <td>3</td>\n",
              "      <td>0</td>\n",
              "      <td>28.0</td>\n",
              "      <td>0</td>\n",
              "      <td>0</td>\n",
              "    </tr>\n",
              "    <tr>\n",
              "      <th>417</th>\n",
              "      <td>3</td>\n",
              "      <td>0</td>\n",
              "      <td>28.0</td>\n",
              "      <td>1</td>\n",
              "      <td>1</td>\n",
              "    </tr>\n",
              "  </tbody>\n",
              "</table>\n",
              "<p>418 rows × 5 columns</p>\n",
              "</div>\n",
              "      <button class=\"colab-df-convert\" onclick=\"convertToInteractive('df-db7df330-22a9-4e3a-aba6-9d450396cdfb')\"\n",
              "              title=\"Convert this dataframe to an interactive table.\"\n",
              "              style=\"display:none;\">\n",
              "        \n",
              "  <svg xmlns=\"http://www.w3.org/2000/svg\" height=\"24px\"viewBox=\"0 0 24 24\"\n",
              "       width=\"24px\">\n",
              "    <path d=\"M0 0h24v24H0V0z\" fill=\"none\"/>\n",
              "    <path d=\"M18.56 5.44l.94 2.06.94-2.06 2.06-.94-2.06-.94-.94-2.06-.94 2.06-2.06.94zm-11 1L8.5 8.5l.94-2.06 2.06-.94-2.06-.94L8.5 2.5l-.94 2.06-2.06.94zm10 10l.94 2.06.94-2.06 2.06-.94-2.06-.94-.94-2.06-.94 2.06-2.06.94z\"/><path d=\"M17.41 7.96l-1.37-1.37c-.4-.4-.92-.59-1.43-.59-.52 0-1.04.2-1.43.59L10.3 9.45l-7.72 7.72c-.78.78-.78 2.05 0 2.83L4 21.41c.39.39.9.59 1.41.59.51 0 1.02-.2 1.41-.59l7.78-7.78 2.81-2.81c.8-.78.8-2.07 0-2.86zM5.41 20L4 18.59l7.72-7.72 1.47 1.35L5.41 20z\"/>\n",
              "  </svg>\n",
              "      </button>\n",
              "      \n",
              "  <style>\n",
              "    .colab-df-container {\n",
              "      display:flex;\n",
              "      flex-wrap:wrap;\n",
              "      gap: 12px;\n",
              "    }\n",
              "\n",
              "    .colab-df-convert {\n",
              "      background-color: #E8F0FE;\n",
              "      border: none;\n",
              "      border-radius: 50%;\n",
              "      cursor: pointer;\n",
              "      display: none;\n",
              "      fill: #1967D2;\n",
              "      height: 32px;\n",
              "      padding: 0 0 0 0;\n",
              "      width: 32px;\n",
              "    }\n",
              "\n",
              "    .colab-df-convert:hover {\n",
              "      background-color: #E2EBFA;\n",
              "      box-shadow: 0px 1px 2px rgba(60, 64, 67, 0.3), 0px 1px 3px 1px rgba(60, 64, 67, 0.15);\n",
              "      fill: #174EA6;\n",
              "    }\n",
              "\n",
              "    [theme=dark] .colab-df-convert {\n",
              "      background-color: #3B4455;\n",
              "      fill: #D2E3FC;\n",
              "    }\n",
              "\n",
              "    [theme=dark] .colab-df-convert:hover {\n",
              "      background-color: #434B5C;\n",
              "      box-shadow: 0px 1px 3px 1px rgba(0, 0, 0, 0.15);\n",
              "      filter: drop-shadow(0px 1px 2px rgba(0, 0, 0, 0.3));\n",
              "      fill: #FFFFFF;\n",
              "    }\n",
              "  </style>\n",
              "\n",
              "      <script>\n",
              "        const buttonEl =\n",
              "          document.querySelector('#df-db7df330-22a9-4e3a-aba6-9d450396cdfb button.colab-df-convert');\n",
              "        buttonEl.style.display =\n",
              "          google.colab.kernel.accessAllowed ? 'block' : 'none';\n",
              "\n",
              "        async function convertToInteractive(key) {\n",
              "          const element = document.querySelector('#df-db7df330-22a9-4e3a-aba6-9d450396cdfb');\n",
              "          const dataTable =\n",
              "            await google.colab.kernel.invokeFunction('convertToInteractive',\n",
              "                                                     [key], {});\n",
              "          if (!dataTable) return;\n",
              "\n",
              "          const docLinkHtml = 'Like what you see? Visit the ' +\n",
              "            '<a target=\"_blank\" href=https://colab.research.google.com/notebooks/data_table.ipynb>data table notebook</a>'\n",
              "            + ' to learn more about interactive tables.';\n",
              "          element.innerHTML = '';\n",
              "          dataTable['output_type'] = 'display_data';\n",
              "          await google.colab.output.renderOutput(dataTable, element);\n",
              "          const docLink = document.createElement('div');\n",
              "          docLink.innerHTML = docLinkHtml;\n",
              "          element.appendChild(docLink);\n",
              "        }\n",
              "      </script>\n",
              "    </div>\n",
              "  </div>\n",
              "  "
            ]
          },
          "metadata": {},
          "execution_count": 21
        }
      ]
    },
    {
      "cell_type": "code",
      "source": [
        "test_dummies = train[['Pclass', 'Sex', 'Age', 'Fare']]\n",
        "test_dummies = pd.get_dummies(test_dummies)"
      ],
      "metadata": {
        "id": "XRwgn7vv4a_a"
      },
      "execution_count": null,
      "outputs": []
    },
    {
      "cell_type": "code",
      "source": [
        "test_dummies"
      ],
      "metadata": {
        "id": "w0fpkyIo4oFd"
      },
      "execution_count": null,
      "outputs": []
    },
    {
      "cell_type": "code",
      "source": [
        "train_dummies = train[['Pclass', 'Sex', 'Age', 'Fare']]\n",
        "train_dummies = pd.get_dummies(train_dummies)"
      ],
      "metadata": {
        "id": "2IqqWOql9kYM"
      },
      "execution_count": null,
      "outputs": []
    },
    {
      "cell_type": "code",
      "source": [
        "train_dummies"
      ],
      "metadata": {
        "id": "iyYpBFjx952E"
      },
      "execution_count": null,
      "outputs": []
    },
    {
      "cell_type": "code",
      "source": [
        "train_survived = train['Survived']\n",
        "train_survived = pd.get_dummies(train_survived)"
      ],
      "metadata": {
        "id": "taPAMjSAANCv"
      },
      "execution_count": null,
      "outputs": []
    },
    {
      "cell_type": "code",
      "source": [
        "train_survived"
      ],
      "metadata": {
        "id": "kTz0ZDeSAbyn"
      },
      "execution_count": null,
      "outputs": []
    },
    {
      "cell_type": "markdown",
      "source": [
        "Crianças e adultos foram maioria entre os sobreviventes pois representavam a maioria das mulheres e crianças que foram prioridades, jovem adultos e idosos eram a maioria entre homens e tripulantes, por isso são maioria entre os mortos."
      ],
      "metadata": {
        "id": "8pLI76Enxb4i"
      }
    },
    {
      "cell_type": "markdown",
      "source": [
        "Regressão Linear:\n",
        "\n",
        "1. Aplique regressão linear para prever a taxa de sobrevivência com base em características relevantes.\n",
        "2. Avalie a importância de cada variável independente no modelo de regressão linear.\n",
        "3. Analise a qualidade do ajuste do modelo e interprete os coeficientes resultantes."
      ],
      "metadata": {
        "id": "7A5D8_5ihsSJ"
      }
    },
    {
      "cell_type": "code",
      "source": [
        "regressor = LinearRegression()\n",
        "regressor.fit(train_dummies, train_survived)\n",
        "predictions = regressor.predict(test_dummies)"
      ],
      "metadata": {
        "id": "cWHxtXIUEhmm"
      },
      "execution_count": null,
      "outputs": []
    },
    {
      "cell_type": "code",
      "source": [
        "predictions"
      ],
      "metadata": {
        "colab": {
          "base_uri": "https://localhost:8080/"
        },
        "id": "Z8eEOXBF4TEV",
        "outputId": "08e5529b-8232-4b92-ee84-ab843e7ff798"
      },
      "execution_count": null,
      "outputs": [
        {
          "output_type": "execute_result",
          "data": {
            "text/plain": [
              "array([[0.88381433, 0.11618567],\n",
              "       [0.09357092, 0.90642908],\n",
              "       [0.40521616, 0.59478384],\n",
              "       ...,\n",
              "       [0.41394145, 0.58605855],\n",
              "       [0.53559376, 0.46440624],\n",
              "       [0.93344873, 0.06655127]])"
            ]
          },
          "metadata": {},
          "execution_count": 31
        }
      ]
    },
    {
      "cell_type": "code",
      "source": [
        "g_X = train_survived.values\n",
        "g_y = train_dummies.values"
      ],
      "metadata": {
        "id": "WV76dYfIGHjq"
      },
      "execution_count": null,
      "outputs": []
    },
    {
      "cell_type": "code",
      "source": [
        "train_g_X, test_g_X, train_g_y, test_g_y =  train_test_split(\n",
        "    g_X, g_y, test_size=0.2, random_state=42\n",
        ")"
      ],
      "metadata": {
        "id": "81z26oKQGQk4"
      },
      "execution_count": null,
      "outputs": []
    },
    {
      "cell_type": "code",
      "source": [
        "modelo_titanic = LinearRegression()"
      ],
      "metadata": {
        "id": "DUaqFxnpHmqy"
      },
      "execution_count": null,
      "outputs": []
    },
    {
      "cell_type": "code",
      "source": [
        "modelo_titanic.fit(train_g_X,train_g_y)"
      ],
      "metadata": {
        "colab": {
          "base_uri": "https://localhost:8080/",
          "height": 74
        },
        "id": "eIIt2kHdHP-J",
        "outputId": "7878754a-6272-4093-c53d-2dcc783d37b7"
      },
      "execution_count": null,
      "outputs": [
        {
          "output_type": "execute_result",
          "data": {
            "text/plain": [
              "LinearRegression()"
            ],
            "text/html": [
              "<style>#sk-container-id-2 {color: black;background-color: white;}#sk-container-id-2 pre{padding: 0;}#sk-container-id-2 div.sk-toggleable {background-color: white;}#sk-container-id-2 label.sk-toggleable__label {cursor: pointer;display: block;width: 100%;margin-bottom: 0;padding: 0.3em;box-sizing: border-box;text-align: center;}#sk-container-id-2 label.sk-toggleable__label-arrow:before {content: \"▸\";float: left;margin-right: 0.25em;color: #696969;}#sk-container-id-2 label.sk-toggleable__label-arrow:hover:before {color: black;}#sk-container-id-2 div.sk-estimator:hover label.sk-toggleable__label-arrow:before {color: black;}#sk-container-id-2 div.sk-toggleable__content {max-height: 0;max-width: 0;overflow: hidden;text-align: left;background-color: #f0f8ff;}#sk-container-id-2 div.sk-toggleable__content pre {margin: 0.2em;color: black;border-radius: 0.25em;background-color: #f0f8ff;}#sk-container-id-2 input.sk-toggleable__control:checked~div.sk-toggleable__content {max-height: 200px;max-width: 100%;overflow: auto;}#sk-container-id-2 input.sk-toggleable__control:checked~label.sk-toggleable__label-arrow:before {content: \"▾\";}#sk-container-id-2 div.sk-estimator input.sk-toggleable__control:checked~label.sk-toggleable__label {background-color: #d4ebff;}#sk-container-id-2 div.sk-label input.sk-toggleable__control:checked~label.sk-toggleable__label {background-color: #d4ebff;}#sk-container-id-2 input.sk-hidden--visually {border: 0;clip: rect(1px 1px 1px 1px);clip: rect(1px, 1px, 1px, 1px);height: 1px;margin: -1px;overflow: hidden;padding: 0;position: absolute;width: 1px;}#sk-container-id-2 div.sk-estimator {font-family: monospace;background-color: #f0f8ff;border: 1px dotted black;border-radius: 0.25em;box-sizing: border-box;margin-bottom: 0.5em;}#sk-container-id-2 div.sk-estimator:hover {background-color: #d4ebff;}#sk-container-id-2 div.sk-parallel-item::after {content: \"\";width: 100%;border-bottom: 1px solid gray;flex-grow: 1;}#sk-container-id-2 div.sk-label:hover label.sk-toggleable__label {background-color: #d4ebff;}#sk-container-id-2 div.sk-serial::before {content: \"\";position: absolute;border-left: 1px solid gray;box-sizing: border-box;top: 0;bottom: 0;left: 50%;z-index: 0;}#sk-container-id-2 div.sk-serial {display: flex;flex-direction: column;align-items: center;background-color: white;padding-right: 0.2em;padding-left: 0.2em;position: relative;}#sk-container-id-2 div.sk-item {position: relative;z-index: 1;}#sk-container-id-2 div.sk-parallel {display: flex;align-items: stretch;justify-content: center;background-color: white;position: relative;}#sk-container-id-2 div.sk-item::before, #sk-container-id-2 div.sk-parallel-item::before {content: \"\";position: absolute;border-left: 1px solid gray;box-sizing: border-box;top: 0;bottom: 0;left: 50%;z-index: -1;}#sk-container-id-2 div.sk-parallel-item {display: flex;flex-direction: column;z-index: 1;position: relative;background-color: white;}#sk-container-id-2 div.sk-parallel-item:first-child::after {align-self: flex-end;width: 50%;}#sk-container-id-2 div.sk-parallel-item:last-child::after {align-self: flex-start;width: 50%;}#sk-container-id-2 div.sk-parallel-item:only-child::after {width: 0;}#sk-container-id-2 div.sk-dashed-wrapped {border: 1px dashed gray;margin: 0 0.4em 0.5em 0.4em;box-sizing: border-box;padding-bottom: 0.4em;background-color: white;}#sk-container-id-2 div.sk-label label {font-family: monospace;font-weight: bold;display: inline-block;line-height: 1.2em;}#sk-container-id-2 div.sk-label-container {text-align: center;}#sk-container-id-2 div.sk-container {/* jupyter's `normalize.less` sets `[hidden] { display: none; }` but bootstrap.min.css set `[hidden] { display: none !important; }` so we also need the `!important` here to be able to override the default hidden behavior on the sphinx rendered scikit-learn.org. See: https://github.com/scikit-learn/scikit-learn/issues/21755 */display: inline-block !important;position: relative;}#sk-container-id-2 div.sk-text-repr-fallback {display: none;}</style><div id=\"sk-container-id-2\" class=\"sk-top-container\"><div class=\"sk-text-repr-fallback\"><pre>LinearRegression()</pre><b>In a Jupyter environment, please rerun this cell to show the HTML representation or trust the notebook. <br />On GitHub, the HTML representation is unable to render, please try loading this page with nbviewer.org.</b></div><div class=\"sk-container\" hidden><div class=\"sk-item\"><div class=\"sk-estimator sk-toggleable\"><input class=\"sk-toggleable__control sk-hidden--visually\" id=\"sk-estimator-id-2\" type=\"checkbox\" checked><label for=\"sk-estimator-id-2\" class=\"sk-toggleable__label sk-toggleable__label-arrow\">LinearRegression</label><div class=\"sk-toggleable__content\"><pre>LinearRegression()</pre></div></div></div></div></div>"
            ]
          },
          "metadata": {},
          "execution_count": 45
        }
      ]
    },
    {
      "cell_type": "code",
      "source": [
        "titanic_predict = modelo_titanic.predict(test_g_X)"
      ],
      "metadata": {
        "id": "rQc_f3adH0BL"
      },
      "execution_count": null,
      "outputs": []
    },
    {
      "cell_type": "code",
      "source": [
        "plt.scatter(test_g_X, test_g_y)\n",
        "plt.xlabel('Survived')\n",
        "plt.ylabel('Total')\n",
        "plt.plot(test_g_X, titanic_predict, color='red')"
      ],
      "metadata": {
        "id": "Xrpqj6qNIFU0"
      },
      "execution_count": null,
      "outputs": []
    },
    {
      "cell_type": "markdown",
      "source": [
        "1. Implemente algoritmos de classificação, como árvores de decisão e radom forest, para prever a sobrevivência dos passageiros.\n",
        "2. Realize a validação cruzada para avaliar o desempenho do modelo e ajustar os hiperparâmetros adequados.\n",
        "3. Compare diferentes algoritmos e técnicas de machine learning em termos de precisão, recall ou outras métricas relevantes."
      ],
      "metadata": {
        "id": "Zup48qw-h6s2"
      }
    },
    {
      "cell_type": "markdown",
      "source": [
        "  * Faça suas considerações finais, destacando as inferências que puderam ser feitas com a análise.\n",
        "  * Crie um dataframe com 2 colunas (Passageiro e Sobreviveu), para cada passageiro no conjunto de testes, você deve prever um valor 0 ou 1 (0 - morreu, 1 - sobreviveu).\n",
        "  * Faça seus próprios comentários em cada item.\n",
        "  * Tenha atenção a apresentação.\n",
        "  * Publique seu trabalho no GitHub (atenção, a publicação deve estar com os gráficos e tabelas abertos, os seja, devem ficar visíveis no GitHub)"
      ],
      "metadata": {
        "id": "Efv656wbiBU6"
      }
    },
    {
      "cell_type": "code",
      "source": [
        "X = train_dummies\n",
        "y = train_survived"
      ],
      "metadata": {
        "id": "0_C9fRBwHUHx"
      },
      "execution_count": null,
      "outputs": []
    },
    {
      "cell_type": "code",
      "source": [
        "X_train, X_test, y_train, y_test = train_test_split(\n",
        "    X,y, test_size=0.2, random_state=42\n",
        "    )"
      ],
      "metadata": {
        "id": "wCJwlYvvLmmd"
      },
      "execution_count": null,
      "outputs": []
    },
    {
      "cell_type": "code",
      "source": [
        "arvore = DecisionTreeClassifier()\n",
        "arvore.fit(X_train,y_train)"
      ],
      "metadata": {
        "colab": {
          "base_uri": "https://localhost:8080/",
          "height": 74
        },
        "id": "EqqJ1snCLtH_",
        "outputId": "4452e98a-4883-4be3-debf-3aae7c2361b5"
      },
      "execution_count": null,
      "outputs": [
        {
          "output_type": "execute_result",
          "data": {
            "text/plain": [
              "DecisionTreeClassifier()"
            ],
            "text/html": [
              "<style>#sk-container-id-3 {color: black;background-color: white;}#sk-container-id-3 pre{padding: 0;}#sk-container-id-3 div.sk-toggleable {background-color: white;}#sk-container-id-3 label.sk-toggleable__label {cursor: pointer;display: block;width: 100%;margin-bottom: 0;padding: 0.3em;box-sizing: border-box;text-align: center;}#sk-container-id-3 label.sk-toggleable__label-arrow:before {content: \"▸\";float: left;margin-right: 0.25em;color: #696969;}#sk-container-id-3 label.sk-toggleable__label-arrow:hover:before {color: black;}#sk-container-id-3 div.sk-estimator:hover label.sk-toggleable__label-arrow:before {color: black;}#sk-container-id-3 div.sk-toggleable__content {max-height: 0;max-width: 0;overflow: hidden;text-align: left;background-color: #f0f8ff;}#sk-container-id-3 div.sk-toggleable__content pre {margin: 0.2em;color: black;border-radius: 0.25em;background-color: #f0f8ff;}#sk-container-id-3 input.sk-toggleable__control:checked~div.sk-toggleable__content {max-height: 200px;max-width: 100%;overflow: auto;}#sk-container-id-3 input.sk-toggleable__control:checked~label.sk-toggleable__label-arrow:before {content: \"▾\";}#sk-container-id-3 div.sk-estimator input.sk-toggleable__control:checked~label.sk-toggleable__label {background-color: #d4ebff;}#sk-container-id-3 div.sk-label input.sk-toggleable__control:checked~label.sk-toggleable__label {background-color: #d4ebff;}#sk-container-id-3 input.sk-hidden--visually {border: 0;clip: rect(1px 1px 1px 1px);clip: rect(1px, 1px, 1px, 1px);height: 1px;margin: -1px;overflow: hidden;padding: 0;position: absolute;width: 1px;}#sk-container-id-3 div.sk-estimator {font-family: monospace;background-color: #f0f8ff;border: 1px dotted black;border-radius: 0.25em;box-sizing: border-box;margin-bottom: 0.5em;}#sk-container-id-3 div.sk-estimator:hover {background-color: #d4ebff;}#sk-container-id-3 div.sk-parallel-item::after {content: \"\";width: 100%;border-bottom: 1px solid gray;flex-grow: 1;}#sk-container-id-3 div.sk-label:hover label.sk-toggleable__label {background-color: #d4ebff;}#sk-container-id-3 div.sk-serial::before {content: \"\";position: absolute;border-left: 1px solid gray;box-sizing: border-box;top: 0;bottom: 0;left: 50%;z-index: 0;}#sk-container-id-3 div.sk-serial {display: flex;flex-direction: column;align-items: center;background-color: white;padding-right: 0.2em;padding-left: 0.2em;position: relative;}#sk-container-id-3 div.sk-item {position: relative;z-index: 1;}#sk-container-id-3 div.sk-parallel {display: flex;align-items: stretch;justify-content: center;background-color: white;position: relative;}#sk-container-id-3 div.sk-item::before, #sk-container-id-3 div.sk-parallel-item::before {content: \"\";position: absolute;border-left: 1px solid gray;box-sizing: border-box;top: 0;bottom: 0;left: 50%;z-index: -1;}#sk-container-id-3 div.sk-parallel-item {display: flex;flex-direction: column;z-index: 1;position: relative;background-color: white;}#sk-container-id-3 div.sk-parallel-item:first-child::after {align-self: flex-end;width: 50%;}#sk-container-id-3 div.sk-parallel-item:last-child::after {align-self: flex-start;width: 50%;}#sk-container-id-3 div.sk-parallel-item:only-child::after {width: 0;}#sk-container-id-3 div.sk-dashed-wrapped {border: 1px dashed gray;margin: 0 0.4em 0.5em 0.4em;box-sizing: border-box;padding-bottom: 0.4em;background-color: white;}#sk-container-id-3 div.sk-label label {font-family: monospace;font-weight: bold;display: inline-block;line-height: 1.2em;}#sk-container-id-3 div.sk-label-container {text-align: center;}#sk-container-id-3 div.sk-container {/* jupyter's `normalize.less` sets `[hidden] { display: none; }` but bootstrap.min.css set `[hidden] { display: none !important; }` so we also need the `!important` here to be able to override the default hidden behavior on the sphinx rendered scikit-learn.org. See: https://github.com/scikit-learn/scikit-learn/issues/21755 */display: inline-block !important;position: relative;}#sk-container-id-3 div.sk-text-repr-fallback {display: none;}</style><div id=\"sk-container-id-3\" class=\"sk-top-container\"><div class=\"sk-text-repr-fallback\"><pre>DecisionTreeClassifier()</pre><b>In a Jupyter environment, please rerun this cell to show the HTML representation or trust the notebook. <br />On GitHub, the HTML representation is unable to render, please try loading this page with nbviewer.org.</b></div><div class=\"sk-container\" hidden><div class=\"sk-item\"><div class=\"sk-estimator sk-toggleable\"><input class=\"sk-toggleable__control sk-hidden--visually\" id=\"sk-estimator-id-3\" type=\"checkbox\" checked><label for=\"sk-estimator-id-3\" class=\"sk-toggleable__label sk-toggleable__label-arrow\">DecisionTreeClassifier</label><div class=\"sk-toggleable__content\"><pre>DecisionTreeClassifier()</pre></div></div></div></div></div>"
            ]
          },
          "metadata": {},
          "execution_count": 61
        }
      ]
    },
    {
      "cell_type": "code",
      "source": [
        "y_pred = arvore.predict(X_test)"
      ],
      "metadata": {
        "id": "TgW2Dfu1L3xB"
      },
      "execution_count": null,
      "outputs": []
    },
    {
      "cell_type": "code",
      "source": [
        "floresta = RandomForestClassifier()\n",
        "floresta.fit(X_train, y_train)"
      ],
      "metadata": {
        "colab": {
          "base_uri": "https://localhost:8080/",
          "height": 183
        },
        "id": "rLF0njWIDw6-",
        "outputId": "77586973-e8f4-46cd-ca93-d7a6b6651d1c"
      },
      "execution_count": null,
      "outputs": [
        {
          "output_type": "error",
          "ename": "NameError",
          "evalue": "ignored",
          "traceback": [
            "\u001b[0;31m---------------------------------------------------------------------------\u001b[0m",
            "\u001b[0;31mNameError\u001b[0m                                 Traceback (most recent call last)",
            "\u001b[0;32m<ipython-input-59-af5653d6d4a6>\u001b[0m in \u001b[0;36m<cell line: 2>\u001b[0;34m()\u001b[0m\n\u001b[1;32m      1\u001b[0m \u001b[0mfloresta\u001b[0m \u001b[0;34m=\u001b[0m \u001b[0mRandomForestClassifier\u001b[0m\u001b[0;34m(\u001b[0m\u001b[0;34m)\u001b[0m\u001b[0;34m\u001b[0m\u001b[0;34m\u001b[0m\u001b[0m\n\u001b[0;32m----> 2\u001b[0;31m \u001b[0mfloresta\u001b[0m\u001b[0;34m.\u001b[0m\u001b[0mfit\u001b[0m\u001b[0;34m(\u001b[0m\u001b[0mX_train\u001b[0m\u001b[0;34m,\u001b[0m \u001b[0my_train\u001b[0m\u001b[0;34m)\u001b[0m\u001b[0;34m\u001b[0m\u001b[0;34m\u001b[0m\u001b[0m\n\u001b[0m",
            "\u001b[0;31mNameError\u001b[0m: name 'X_train' is not defined"
          ]
        }
      ]
    },
    {
      "cell_type": "code",
      "source": [
        "y_predict = floresta.predict(X_test)\n",
        "accuracy_score(y_test, y_predict)"
      ],
      "metadata": {
        "colab": {
          "base_uri": "https://localhost:8080/",
          "height": 183
        },
        "id": "c8K5-m1iEH90",
        "outputId": "46aadc19-17bc-4307-b951-4e963d0ec8d2"
      },
      "execution_count": null,
      "outputs": [
        {
          "output_type": "error",
          "ename": "NameError",
          "evalue": "ignored",
          "traceback": [
            "\u001b[0;31m---------------------------------------------------------------------------\u001b[0m",
            "\u001b[0;31mNameError\u001b[0m                                 Traceback (most recent call last)",
            "\u001b[0;32m<ipython-input-51-9ffd0bf08a69>\u001b[0m in \u001b[0;36m<cell line: 1>\u001b[0;34m()\u001b[0m\n\u001b[0;32m----> 1\u001b[0;31m \u001b[0my_predict\u001b[0m \u001b[0;34m=\u001b[0m \u001b[0mfloresta\u001b[0m\u001b[0;34m.\u001b[0m\u001b[0mpredict\u001b[0m\u001b[0;34m(\u001b[0m\u001b[0mX_test\u001b[0m\u001b[0;34m)\u001b[0m\u001b[0;34m\u001b[0m\u001b[0;34m\u001b[0m\u001b[0m\n\u001b[0m\u001b[1;32m      2\u001b[0m \u001b[0maccuracy_score\u001b[0m\u001b[0;34m(\u001b[0m\u001b[0my_test\u001b[0m\u001b[0;34m,\u001b[0m \u001b[0my_predict\u001b[0m\u001b[0;34m)\u001b[0m\u001b[0;34m\u001b[0m\u001b[0;34m\u001b[0m\u001b[0m\n",
            "\u001b[0;31mNameError\u001b[0m: name 'floresta' is not defined"
          ]
        }
      ]
    }
  ]
}